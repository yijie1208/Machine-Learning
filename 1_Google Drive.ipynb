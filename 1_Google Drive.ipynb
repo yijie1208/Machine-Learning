{
  "nbformat": 4,
  "nbformat_minor": 0,
  "metadata": {
    "colab": {
      "provenance": [],
      "toc_visible": true
    },
    "kernelspec": {
      "name": "python3",
      "display_name": "Python 3"
    },
    "language_info": {
      "name": "python"
    }
  },
  "cells": [
    {
      "cell_type": "markdown",
      "source": [
        "# Import Packages"
      ],
      "metadata": {
        "id": "wrN1KUh9hP1Y"
      }
    },
    {
      "cell_type": "code",
      "execution_count": 3,
      "metadata": {
        "id": "GHknWTMBhCha"
      },
      "outputs": [],
      "source": [
        "import pandas as pd\n",
        "from google.colab import drive"
      ]
    },
    {
      "cell_type": "markdown",
      "source": [
        "# Connect to Google Drive"
      ],
      "metadata": {
        "id": "Y3EuiclfJnS1"
      }
    },
    {
      "cell_type": "code",
      "source": [
        "drive.mount('/content/gdrive/', force_remount = True)\n"
      ],
      "metadata": {
        "colab": {
          "base_uri": "https://localhost:8080/"
        },
        "id": "ANtNHoMHhbyN",
        "outputId": "91a39d95-0e35-423f-a39a-6b4bfbf80a85"
      },
      "execution_count": 4,
      "outputs": [
        {
          "output_type": "stream",
          "name": "stdout",
          "text": [
            "Mounted at /content/gdrive/\n"
          ]
        }
      ]
    },
    {
      "cell_type": "markdown",
      "source": [
        "# Read File"
      ],
      "metadata": {
        "id": "Qq70EQVvJvWv"
      }
    },
    {
      "cell_type": "code",
      "source": [
        "df = pd.read_csv(\"/content/gdrive/MyDrive/ECON441B/california_housing_test.csv\")"
      ],
      "metadata": {
        "id": "nWSu3nz-iD2x"
      },
      "execution_count": 5,
      "outputs": []
    },
    {
      "cell_type": "markdown",
      "source": [
        "# Visualization"
      ],
      "metadata": {
        "id": "fyCnNEaOJ4Vr"
      }
    },
    {
      "cell_type": "code",
      "source": [
        "import matplotlib.pyplot as plt\n",
        "\n",
        "plt.figure(figsize = (14, 6))\n",
        "\n",
        "plt.hist(df[\"housing_median_age\"], alpha = .5)\n",
        "\n",
        "# add labels\n",
        "plt.title(\"california housing\")\n",
        "plt.ylabel(\"number\")\n",
        "plt.xlabel(\"housing_median_age\")\n",
        "\n",
        "# add grid lines\n",
        "plt.grid()"
      ],
      "metadata": {
        "colab": {
          "base_uri": "https://localhost:8080/",
          "height": 425
        },
        "id": "XMaNVt-cjYh5",
        "outputId": "a1e32c8f-c3b6-41c5-cb8c-516e72c925b5"
      },
      "execution_count": 7,
      "outputs": [
        {
          "output_type": "display_data",
          "data": {
            "text/plain": [
              "<Figure size 1008x432 with 1 Axes>"
            ],
            "image/png": "[encoded data removed]"
          },
          "metadata": {
            "needs_background": "light"
          }
        }
      ]
    },
    {
      "cell_type": "markdown",
      "source": [
        "California has the highest proportion of housing with a median age of 35 and has the almost same proportion of housing with a median age of 20 to 30 years and 35 to 40 years."
      ],
      "metadata": {
        "id": "OQDNA4CMG2wQ"
      }
    }
  ]
}